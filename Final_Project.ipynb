{
  "cells": [
    {
      "cell_type": "markdown",
      "metadata": {
        "application/vnd.databricks.v1+cell": {
          "cellMetadata": {},
          "inputWidgets": {},
          "nuid": "96816ed7-b08a-4ca3-abb9-f99880c3535d",
          "showTitle": false,
          "tableResultSettingsMap": {},
          "title": ""
        },
        "id": "PomQNqM3wX22"
      },
      "source": [
        "\n",
        "## Overview\n",
        "\n",
        "This notebook will show you how to create and query a table or DataFrame that you uploaded to DBFS. [DBFS](https://docs.databricks.com/user-guide/dbfs-databricks-file-system.html) is a Databricks File System that allows you to store data for querying inside of Databricks. This notebook assumes that you have a file already inside of DBFS that you would like to read from.\n",
        "\n",
        "This notebook is written in **Python** so the default cell type is Python. However, you can use different languages by using the `%LANGUAGE` syntax. Python, Scala, SQL, and R are all supported."
      ]
    },
    {
      "cell_type": "code",
      "execution_count": null,
      "metadata": {
        "application/vnd.databricks.v1+cell": {
          "cellMetadata": {
            "byteLimit": 2048000,
            "rowLimit": 10000
          },
          "inputWidgets": {},
          "nuid": "6482be4c-f067-47c9-b0ac-35c938b94601",
          "showTitle": false,
          "tableResultSettingsMap": {},
          "title": ""
        },
        "colab": {
          "base_uri": "https://localhost:8080/",
          "height": 124
        },
        "id": "DzGBrf7QwX24",
        "outputId": "d39c05d8-6ef0-43db-e50c-a5e580874b33"
      },
      "outputs": [
        {
          "output_type": "display_data",
          "data": {
            "text/plain": [
              "DataFrame[ID: int, Case Number: string, Date: string, Block: string, IUCR: string, Primary Type: string, Description: string, Location Description: string, Arrest: boolean, Domestic: boolean, Beat: int, District: int, Ward: int, Community Area: int, FBI Code: string, X Coordinate: int, Y Coordinate: int, Year: int, Updated On: string, Latitude: double, Longitude: double, Location: string]"
            ]
          },
          "metadata": {}
        }
      ],
      "source": [
        "from pyspark.sql import SparkSession\n",
        "\n",
        "# Create a SparkSession\n",
        "spark = SparkSession.builder.appName(\"CrimeData\").getOrCreate()\n",
        "\n",
        "# File location and type\n",
        "file_location = \"CrimeData.csv\"\n",
        "file_type = \"csv\"\n",
        "\n",
        "# CSV options\n",
        "infer_schema = \"true\"\n",
        "first_row_is_header = \"true\"\n",
        "delimiter = \",\"\n",
        "\n",
        "# The applied options are for CSV files. For other file types, these will be ignored.\n",
        "df = spark.read.format(file_type) \\\n",
        "  .option(\"inferSchema\", infer_schema) \\\n",
        "  .option(\"header\", first_row_is_header) \\\n",
        "  .option(\"sep\", delimiter) \\\n",
        "  .load(\"CrimeData.csv\")\n",
        "\n",
        "display(df)"
      ]
    },
    {
      "cell_type": "code",
      "source": [
        "from pyspark.sql import SparkSession\n",
        "\n",
        "# Create a SparkSession if one doesn't already exist\n",
        "spark = SparkSession.builder.appName(\"CrimeData\").getOrCreate()\n",
        "\n",
        "# File location and type\n",
        "file_location = \"CrimeData.csv\"\n",
        "file_type = \"csv\"\n",
        "\n",
        "# CSV options\n",
        "infer_schema = \"true\"\n",
        "first_row_is_header = \"true\"\n",
        "delimiter = \",\"\n",
        "\n",
        "# The applied options are for CSV files. For other file types, these will be ignored.\n",
        "df = spark.read.format(file_type) \\\n",
        "  .option(\"inferSchema\", infer_schema) \\\n",
        "  .option(\"header\", first_row_is_header) \\\n",
        "  .option(\"sep\", delimiter) \\\n",
        "  .load(\"CrimeData.csv\")\n",
        "\n",
        "display(df)"
      ],
      "metadata": {
        "colab": {
          "base_uri": "https://localhost:8080/",
          "height": 124
        },
        "id": "0C0c2nAM9NQE",
        "outputId": "850e0da2-9261-4ef1-b062-71c7c2db26fb"
      },
      "execution_count": null,
      "outputs": [
        {
          "output_type": "display_data",
          "data": {
            "text/plain": [
              "DataFrame[ID: int, Case Number: string, Date: string, Block: string, IUCR: string, Primary Type: string, Description: string, Location Description: string, Arrest: boolean, Domestic: boolean, Beat: int, District: int, Ward: int, Community Area: int, FBI Code: string, X Coordinate: int, Y Coordinate: int, Year: int, Updated On: string, Latitude: double, Longitude: double, Location: string]"
            ]
          },
          "metadata": {}
        }
      ]
    },
    {
      "cell_type": "code",
      "execution_count": null,
      "metadata": {
        "application/vnd.databricks.v1+cell": {
          "cellMetadata": {
            "byteLimit": 2048000,
            "rowLimit": 10000
          },
          "inputWidgets": {},
          "nuid": "bd82bb99-1479-4d5c-be10-8c36df0f1d44",
          "showTitle": false,
          "tableResultSettingsMap": {},
          "title": ""
        },
        "id": "BPYM9vJ6wX25"
      },
      "outputs": [],
      "source": [
        "# Create a view or table\n",
        "\n",
        "temp_table_name = \"CrimeData_1_csv\"\n",
        "\n",
        "df.createOrReplaceTempView(temp_table_name)"
      ]
    },
    {
      "cell_type": "code",
      "execution_count": null,
      "metadata": {
        "application/vnd.databricks.v1+cell": {
          "cellMetadata": {
            "byteLimit": 2048000,
            "rowLimit": 10000
          },
          "inputWidgets": {},
          "nuid": "db9631f6-bb4a-42ca-8a3c-0d48af932331",
          "showTitle": false,
          "tableResultSettingsMap": {},
          "title": ""
        },
        "id": "CHvBfS8pwX25"
      },
      "outputs": [],
      "source": [
        "# With this registered as a temp view, it will only be available to this particular notebook. If you'd like other users to be able to query this table, you can also create a table from the DataFrame.\n",
        "# Once saved, this table will persist across cluster restarts as well as allow various users across different notebooks to query this data.\n",
        "# To do so, choose your table name and uncomment the bottom line.\n",
        "\n",
        "permanent_table_name = \"CrimeData_1_csv\"\n",
        "\n",
        "# df.write.format(\"parquet\").saveAsTable(permanent_table_name)"
      ]
    },
    {
      "cell_type": "markdown",
      "metadata": {
        "application/vnd.databricks.v1+cell": {
          "cellMetadata": {},
          "inputWidgets": {},
          "nuid": "235f071d-a583-48ca-a814-7119cacd2c23",
          "showTitle": false,
          "tableResultSettingsMap": {},
          "title": ""
        },
        "id": "CFx2xHAYwX25"
      },
      "source": [
        "Step 1: Check for Missing Values\n"
      ]
    },
    {
      "cell_type": "code",
      "execution_count": null,
      "metadata": {
        "application/vnd.databricks.v1+cell": {
          "cellMetadata": {
            "byteLimit": 2048000,
            "rowLimit": 10000
          },
          "inputWidgets": {},
          "nuid": "440e0f05-6110-4dfb-a8ca-c1f25f59ff6a",
          "showTitle": false,
          "tableResultSettingsMap": {},
          "title": ""
        },
        "id": "yb-md4SrwX25"
      },
      "outputs": [],
      "source": [
        "# Create df_cleaned by dropping rows where key columns are null\n",
        "df_cleaned = df.dropna(subset=[\n",
        "    \"Primary Type\", \"Location Description\",\n",
        "    \"X Coordinate\", \"Y Coordinate\",\n",
        "    \"Latitude\", \"Longitude\"\n",
        "])\n"
      ]
    },
    {
      "cell_type": "code",
      "execution_count": null,
      "metadata": {
        "application/vnd.databricks.v1+cell": {
          "cellMetadata": {
            "byteLimit": 2048000,
            "rowLimit": 10000
          },
          "inputWidgets": {},
          "nuid": "a02bd559-7d5e-424e-bf5d-4e1824e9835b",
          "showTitle": false,
          "tableResultSettingsMap": {},
          "title": ""
        },
        "colab": {
          "base_uri": "https://localhost:8080/"
        },
        "id": "uZUhugWIwX25",
        "outputId": "423172a7-ac1d-4e5a-8e7a-e4a9bda88880"
      },
      "outputs": [
        {
          "output_type": "stream",
          "name": "stdout",
          "text": [
            "+---+-----------+----+-----+----+------------+-----------+--------------------+------+--------+----+--------+------+--------------+--------+------------+------------+----+----------+--------+---------+--------+\n",
            "| ID|Case Number|Date|Block|IUCR|Primary Type|Description|Location Description|Arrest|Domestic|Beat|District|  Ward|Community Area|FBI Code|X Coordinate|Y Coordinate|Year|Updated On|Latitude|Longitude|Location|\n",
            "+---+-----------+----+-----+----+------------+-----------+--------------------+------+--------+----+--------+------+--------------+--------+------------+------------+----+----------+--------+---------+--------+\n",
            "|  0|          0|   0|    0|   0|           0|          0|                   0|     0|       0|   0|       0|293744|        292574|       0|           0|           0|   0|         0|       0|        0|       0|\n",
            "+---+-----------+----+-----+----+------------+-----------+--------------------+------+--------+----+--------+------+--------------+--------+------------+------------+----+----------+--------+---------+--------+\n",
            "\n"
          ]
        }
      ],
      "source": [
        "from pyspark.sql.functions import col, sum, when\n",
        "\n",
        "# Count missing (null) values in each column of df_cleaned\n",
        "df_cleaned.select([\n",
        "    sum(when(col(c).isNull(), 1).otherwise(0)).alias(c)\n",
        "    for c in df_cleaned.columns\n",
        "]).show()\n"
      ]
    },
    {
      "cell_type": "markdown",
      "metadata": {
        "application/vnd.databricks.v1+cell": {
          "cellMetadata": {},
          "inputWidgets": {},
          "nuid": "d1d3da28-c3fa-44d4-879a-11b547543f2f",
          "showTitle": false,
          "tableResultSettingsMap": {},
          "title": ""
        },
        "id": "VD0jFUDhwX25"
      },
      "source": [
        "Drop Duplicate Records"
      ]
    },
    {
      "cell_type": "code",
      "execution_count": null,
      "metadata": {
        "application/vnd.databricks.v1+cell": {
          "cellMetadata": {
            "byteLimit": 2048000,
            "rowLimit": 10000
          },
          "inputWidgets": {},
          "nuid": "eccc0706-b00b-4b77-ab1e-a756a511da08",
          "showTitle": false,
          "tableResultSettingsMap": {},
          "title": ""
        },
        "colab": {
          "base_uri": "https://localhost:8080/"
        },
        "id": "TEuIPYqpwX25",
        "outputId": "447f797e-aac0-4653-b7be-15c50b6f72cf"
      },
      "outputs": [
        {
          "output_type": "stream",
          "name": "stdout",
          "text": [
            "Total Rows: 412297\n",
            "Distinct Rows: 412297\n",
            "Number of Duplicate Rows: 0\n"
          ]
        }
      ],
      "source": [
        "# Count total rows and distinct rows\n",
        "total_rows = df_cleaned.count()\n",
        "distinct_rows = df_cleaned.distinct().count()\n",
        "\n",
        "print(f\"Total Rows: {total_rows}\")\n",
        "print(f\"Distinct Rows: {distinct_rows}\")\n",
        "print(f\"Number of Duplicate Rows: {total_rows - distinct_rows}\")\n",
        "\n"
      ]
    },
    {
      "cell_type": "markdown",
      "metadata": {
        "application/vnd.databricks.v1+cell": {
          "cellMetadata": {},
          "inputWidgets": {},
          "nuid": "a6431096-ef1d-4a04-803c-27818fa66b52",
          "showTitle": false,
          "tableResultSettingsMap": {},
          "title": ""
        },
        "id": "Sygy608AwX26"
      },
      "source": [
        " Step 4: Handle Outliers in Numerical Columns"
      ]
    },
    {
      "cell_type": "markdown",
      "metadata": {
        "application/vnd.databricks.v1+cell": {
          "cellMetadata": {},
          "inputWidgets": {},
          "nuid": "35bb8581-c8d6-4f33-9ab9-fef4c67ba29c",
          "showTitle": false,
          "tableResultSettingsMap": {},
          "title": ""
        },
        "id": "N6LGJz3BwX26"
      },
      "source": [
        "Step 4: Convert Categorical Variables to Numeric"
      ]
    },
    {
      "cell_type": "code",
      "execution_count": null,
      "metadata": {
        "application/vnd.databricks.v1+cell": {
          "cellMetadata": {
            "byteLimit": 2048000,
            "rowLimit": 10000
          },
          "inputWidgets": {},
          "nuid": "dcc04620-d607-4bca-b801-4342b1f59fbf",
          "showTitle": false,
          "tableResultSettingsMap": {},
          "title": ""
        },
        "colab": {
          "base_uri": "https://localhost:8080/"
        },
        "id": "tzeSMw8UwX26",
        "outputId": "088cab9a-f757-4222-ff81-d5370b7cf36c"
      },
      "outputs": [
        {
          "output_type": "stream",
          "name": "stdout",
          "text": [
            "Original Row Count: 412297\n",
            "After Outlier Removal: 117580\n"
          ]
        }
      ],
      "source": [
        "from pyspark.sql.functions import col\n",
        "\n",
        "# List of numerical columns to handle outliers\n",
        "numerical_cols = [\n",
        "    \"Beat\", \"District\", \"Ward\", \"Community Area\",\n",
        "    \"X Coordinate\", \"Y Coordinate\", \"Latitude\", \"Longitude\"\n",
        "]\n",
        "\n",
        "\n",
        "# Start with the cleaned DataFrame\n",
        "df_no_outliers = df_cleaned\n",
        "\n",
        "# Remove outliers based on IQR method for each column\n",
        "for col_name in numerical_cols:\n",
        "    quantiles = df_no_outliers.approxQuantile(col_name, [0.25, 0.75], 0.05)\n",
        "    Q1, Q3 = quantiles[0], quantiles[1]\n",
        "    IQR = Q3 - Q1\n",
        "    lower_bound = Q1 - 1.5 * IQR\n",
        "    upper_bound = Q3 + 1.5 * IQR\n",
        "\n",
        "    df_no_outliers = df_no_outliers.filter((col(col_name) >= lower_bound) & (col(col_name) <= upper_bound))\n",
        "\n",
        "# Optional: Check how many rows remain after outlier removal\n",
        "print(\"Original Row Count:\", df_cleaned.count())\n",
        "print(\"After Outlier Removal:\", df_no_outliers.count())\n"
      ]
    },
    {
      "cell_type": "code",
      "source": [
        "# Assuming df_no_outliers is the final DataFrame after outlier removal\n",
        "df_final = df_no_outliers\n",
        "\n",
        "# Now you can print the schema\n",
        "df_final.printSchema()"
      ],
      "metadata": {
        "colab": {
          "base_uri": "https://localhost:8080/"
        },
        "id": "L1ZJGLSo0b0J",
        "outputId": "4f5cada7-f1e2-464c-8760-e058b6ec23ab"
      },
      "execution_count": null,
      "outputs": [
        {
          "output_type": "stream",
          "name": "stdout",
          "text": [
            "root\n",
            " |-- ID: integer (nullable = true)\n",
            " |-- Case Number: string (nullable = true)\n",
            " |-- Date: string (nullable = true)\n",
            " |-- Block: string (nullable = true)\n",
            " |-- IUCR: string (nullable = true)\n",
            " |-- Primary Type: string (nullable = true)\n",
            " |-- Description: string (nullable = true)\n",
            " |-- Location Description: string (nullable = true)\n",
            " |-- Arrest: boolean (nullable = true)\n",
            " |-- Domestic: boolean (nullable = true)\n",
            " |-- Beat: integer (nullable = true)\n",
            " |-- District: integer (nullable = true)\n",
            " |-- Ward: integer (nullable = true)\n",
            " |-- Community Area: integer (nullable = true)\n",
            " |-- FBI Code: string (nullable = true)\n",
            " |-- X Coordinate: integer (nullable = true)\n",
            " |-- Y Coordinate: integer (nullable = true)\n",
            " |-- Year: integer (nullable = true)\n",
            " |-- Updated On: string (nullable = true)\n",
            " |-- Latitude: double (nullable = true)\n",
            " |-- Longitude: double (nullable = true)\n",
            " |-- Location: string (nullable = true)\n",
            "\n"
          ]
        }
      ]
    },
    {
      "cell_type": "code",
      "execution_count": null,
      "metadata": {
        "application/vnd.databricks.v1+cell": {
          "cellMetadata": {
            "byteLimit": 2048000,
            "rowLimit": 10000
          },
          "inputWidgets": {},
          "nuid": "b223c180-36c8-42e8-98bb-80e4fcbb7f5d",
          "showTitle": false,
          "tableResultSettingsMap": {},
          "title": ""
        },
        "colab": {
          "base_uri": "https://localhost:8080/"
        },
        "id": "uvgSPw1twX26",
        "outputId": "895a8033-24de-411a-bdd2-5358a328b42e"
      },
      "outputs": [
        {
          "output_type": "stream",
          "name": "stdout",
          "text": [
            "root\n",
            " |-- ID: integer (nullable = true)\n",
            " |-- Case Number: string (nullable = true)\n",
            " |-- Date: string (nullable = true)\n",
            " |-- Block: string (nullable = true)\n",
            " |-- IUCR: string (nullable = true)\n",
            " |-- Primary Type: string (nullable = true)\n",
            " |-- Description: string (nullable = true)\n",
            " |-- Location Description: string (nullable = true)\n",
            " |-- Arrest: boolean (nullable = true)\n",
            " |-- Domestic: boolean (nullable = true)\n",
            " |-- Beat: integer (nullable = true)\n",
            " |-- District: integer (nullable = true)\n",
            " |-- Ward: integer (nullable = true)\n",
            " |-- Community Area: integer (nullable = true)\n",
            " |-- FBI Code: string (nullable = true)\n",
            " |-- X Coordinate: integer (nullable = true)\n",
            " |-- Y Coordinate: integer (nullable = true)\n",
            " |-- Year: integer (nullable = true)\n",
            " |-- Updated On: string (nullable = true)\n",
            " |-- Latitude: double (nullable = true)\n",
            " |-- Longitude: double (nullable = true)\n",
            " |-- Location: string (nullable = true)\n",
            "\n"
          ]
        }
      ],
      "source": [
        "df_final.printSchema()"
      ]
    },
    {
      "cell_type": "markdown",
      "metadata": {
        "application/vnd.databricks.v1+cell": {
          "cellMetadata": {},
          "inputWidgets": {},
          "nuid": "c1cbd952-e09a-4648-95c8-de27226e9a8d",
          "showTitle": false,
          "tableResultSettingsMap": {},
          "title": ""
        },
        "id": "qHuWJAWjwX26"
      },
      "source": [
        "**EDA**"
      ]
    },
    {
      "cell_type": "markdown",
      "metadata": {
        "application/vnd.databricks.v1+cell": {
          "cellMetadata": {},
          "inputWidgets": {},
          "nuid": "a2de3ab5-8f51-41bb-a1b5-303ec0d73241",
          "showTitle": false,
          "tableResultSettingsMap": {},
          "title": ""
        },
        "id": "BNKerrlBwX26"
      },
      "source": [
        "**1. Summary Statistics for Numerical Features**"
      ]
    },
    {
      "cell_type": "code",
      "execution_count": null,
      "metadata": {
        "application/vnd.databricks.v1+cell": {
          "cellMetadata": {
            "byteLimit": 2048000,
            "rowLimit": 10000
          },
          "inputWidgets": {},
          "nuid": "772f07e2-1169-44a8-8a47-6c4e16fd1f55",
          "showTitle": false,
          "tableResultSettingsMap": {},
          "title": ""
        },
        "id": "9xsAG6EwwX26",
        "outputId": "8fec646d-5b4a-4226-98b5-8f5de55bec8d",
        "colab": {
          "base_uri": "https://localhost:8080/",
          "height": 372
        }
      },
      "outputs": [
        {
          "output_type": "execute_result",
          "data": {
            "text/plain": [
              "           column   count          mean        stddev           min  \\\n",
              "0            Beat  117580  1.151198e+03    707.272637  1.110000e+02   \n",
              "1        District  117580  1.126209e+01      7.061776  1.000000e+00   \n",
              "2            Ward  117580  2.279530e+01     13.728756  1.000000e+00   \n",
              "3  Community Area  117580  3.654455e+01     21.422345  1.000000e+00   \n",
              "4    X Coordinate  117580  1.165471e+06  15601.610149  1.123075e+06   \n",
              "5    Y Coordinate  117580  1.886353e+06  31534.505101  1.813897e+06   \n",
              "6        Latitude  117580  4.184373e+01      0.086711  4.164459e+01   \n",
              "7       Longitude  117580 -8.766829e+01      0.056779 -8.782268e+01   \n",
              "\n",
              "            max        median  skewness  kurtosis  \n",
              "0  2.535000e+03  1.024000e+03  0.410552 -0.919951  \n",
              "1  3.100000e+01  1.000000e+01  0.414778 -0.912144  \n",
              "2  5.000000e+01  2.200000e+01  0.217445 -1.020529  \n",
              "3  7.700000e+01  3.200000e+01  0.207863 -1.048096  \n",
              "4  1.205119e+06  1.166922e+06 -0.122826 -0.456172  \n",
              "5  1.951503e+06  1.891851e+06 -0.064868 -0.932186  \n",
              "6  4.202255e+01  4.185880e+01 -0.066142 -0.934577  \n",
              "7 -8.752453e+01 -8.766309e+01 -0.134445 -0.457126  "
            ],
            "text/html": [
              "\n",
              "  <div id=\"df-ddd3cdc3-e70f-4403-9df7-b6721e5170ff\" class=\"colab-df-container\">\n",
              "    <div>\n",
              "<style scoped>\n",
              "    .dataframe tbody tr th:only-of-type {\n",
              "        vertical-align: middle;\n",
              "    }\n",
              "\n",
              "    .dataframe tbody tr th {\n",
              "        vertical-align: top;\n",
              "    }\n",
              "\n",
              "    .dataframe thead th {\n",
              "        text-align: right;\n",
              "    }\n",
              "</style>\n",
              "<table border=\"1\" class=\"dataframe\">\n",
              "  <thead>\n",
              "    <tr style=\"text-align: right;\">\n",
              "      <th></th>\n",
              "      <th>column</th>\n",
              "      <th>count</th>\n",
              "      <th>mean</th>\n",
              "      <th>stddev</th>\n",
              "      <th>min</th>\n",
              "      <th>max</th>\n",
              "      <th>median</th>\n",
              "      <th>skewness</th>\n",
              "      <th>kurtosis</th>\n",
              "    </tr>\n",
              "  </thead>\n",
              "  <tbody>\n",
              "    <tr>\n",
              "      <th>0</th>\n",
              "      <td>Beat</td>\n",
              "      <td>117580</td>\n",
              "      <td>1.151198e+03</td>\n",
              "      <td>707.272637</td>\n",
              "      <td>1.110000e+02</td>\n",
              "      <td>2.535000e+03</td>\n",
              "      <td>1.024000e+03</td>\n",
              "      <td>0.410552</td>\n",
              "      <td>-0.919951</td>\n",
              "    </tr>\n",
              "    <tr>\n",
              "      <th>1</th>\n",
              "      <td>District</td>\n",
              "      <td>117580</td>\n",
              "      <td>1.126209e+01</td>\n",
              "      <td>7.061776</td>\n",
              "      <td>1.000000e+00</td>\n",
              "      <td>3.100000e+01</td>\n",
              "      <td>1.000000e+01</td>\n",
              "      <td>0.414778</td>\n",
              "      <td>-0.912144</td>\n",
              "    </tr>\n",
              "    <tr>\n",
              "      <th>2</th>\n",
              "      <td>Ward</td>\n",
              "      <td>117580</td>\n",
              "      <td>2.279530e+01</td>\n",
              "      <td>13.728756</td>\n",
              "      <td>1.000000e+00</td>\n",
              "      <td>5.000000e+01</td>\n",
              "      <td>2.200000e+01</td>\n",
              "      <td>0.217445</td>\n",
              "      <td>-1.020529</td>\n",
              "    </tr>\n",
              "    <tr>\n",
              "      <th>3</th>\n",
              "      <td>Community Area</td>\n",
              "      <td>117580</td>\n",
              "      <td>3.654455e+01</td>\n",
              "      <td>21.422345</td>\n",
              "      <td>1.000000e+00</td>\n",
              "      <td>7.700000e+01</td>\n",
              "      <td>3.200000e+01</td>\n",
              "      <td>0.207863</td>\n",
              "      <td>-1.048096</td>\n",
              "    </tr>\n",
              "    <tr>\n",
              "      <th>4</th>\n",
              "      <td>X Coordinate</td>\n",
              "      <td>117580</td>\n",
              "      <td>1.165471e+06</td>\n",
              "      <td>15601.610149</td>\n",
              "      <td>1.123075e+06</td>\n",
              "      <td>1.205119e+06</td>\n",
              "      <td>1.166922e+06</td>\n",
              "      <td>-0.122826</td>\n",
              "      <td>-0.456172</td>\n",
              "    </tr>\n",
              "    <tr>\n",
              "      <th>5</th>\n",
              "      <td>Y Coordinate</td>\n",
              "      <td>117580</td>\n",
              "      <td>1.886353e+06</td>\n",
              "      <td>31534.505101</td>\n",
              "      <td>1.813897e+06</td>\n",
              "      <td>1.951503e+06</td>\n",
              "      <td>1.891851e+06</td>\n",
              "      <td>-0.064868</td>\n",
              "      <td>-0.932186</td>\n",
              "    </tr>\n",
              "    <tr>\n",
              "      <th>6</th>\n",
              "      <td>Latitude</td>\n",
              "      <td>117580</td>\n",
              "      <td>4.184373e+01</td>\n",
              "      <td>0.086711</td>\n",
              "      <td>4.164459e+01</td>\n",
              "      <td>4.202255e+01</td>\n",
              "      <td>4.185880e+01</td>\n",
              "      <td>-0.066142</td>\n",
              "      <td>-0.934577</td>\n",
              "    </tr>\n",
              "    <tr>\n",
              "      <th>7</th>\n",
              "      <td>Longitude</td>\n",
              "      <td>117580</td>\n",
              "      <td>-8.766829e+01</td>\n",
              "      <td>0.056779</td>\n",
              "      <td>-8.782268e+01</td>\n",
              "      <td>-8.752453e+01</td>\n",
              "      <td>-8.766309e+01</td>\n",
              "      <td>-0.134445</td>\n",
              "      <td>-0.457126</td>\n",
              "    </tr>\n",
              "  </tbody>\n",
              "</table>\n",
              "</div>\n",
              "    <div class=\"colab-df-buttons\">\n",
              "\n",
              "  <div class=\"colab-df-container\">\n",
              "    <button class=\"colab-df-convert\" onclick=\"convertToInteractive('df-ddd3cdc3-e70f-4403-9df7-b6721e5170ff')\"\n",
              "            title=\"Convert this dataframe to an interactive table.\"\n",
              "            style=\"display:none;\">\n",
              "\n",
              "  <svg xmlns=\"http://www.w3.org/2000/svg\" height=\"24px\" viewBox=\"0 -960 960 960\">\n",
              "    <path d=\"M120-120v-720h720v720H120Zm60-500h600v-160H180v160Zm220 220h160v-160H400v160Zm0 220h160v-160H400v160ZM180-400h160v-160H180v160Zm440 0h160v-160H620v160ZM180-180h160v-160H180v160Zm440 0h160v-160H620v160Z\"/>\n",
              "  </svg>\n",
              "    </button>\n",
              "\n",
              "  <style>\n",
              "    .colab-df-container {\n",
              "      display:flex;\n",
              "      gap: 12px;\n",
              "    }\n",
              "\n",
              "    .colab-df-convert {\n",
              "      background-color: #E8F0FE;\n",
              "      border: none;\n",
              "      border-radius: 50%;\n",
              "      cursor: pointer;\n",
              "      display: none;\n",
              "      fill: #1967D2;\n",
              "      height: 32px;\n",
              "      padding: 0 0 0 0;\n",
              "      width: 32px;\n",
              "    }\n",
              "\n",
              "    .colab-df-convert:hover {\n",
              "      background-color: #E2EBFA;\n",
              "      box-shadow: 0px 1px 2px rgba(60, 64, 67, 0.3), 0px 1px 3px 1px rgba(60, 64, 67, 0.15);\n",
              "      fill: #174EA6;\n",
              "    }\n",
              "\n",
              "    .colab-df-buttons div {\n",
              "      margin-bottom: 4px;\n",
              "    }\n",
              "\n",
              "    [theme=dark] .colab-df-convert {\n",
              "      background-color: #3B4455;\n",
              "      fill: #D2E3FC;\n",
              "    }\n",
              "\n",
              "    [theme=dark] .colab-df-convert:hover {\n",
              "      background-color: #434B5C;\n",
              "      box-shadow: 0px 1px 3px 1px rgba(0, 0, 0, 0.15);\n",
              "      filter: drop-shadow(0px 1px 2px rgba(0, 0, 0, 0.3));\n",
              "      fill: #FFFFFF;\n",
              "    }\n",
              "  </style>\n",
              "\n",
              "    <script>\n",
              "      const buttonEl =\n",
              "        document.querySelector('#df-ddd3cdc3-e70f-4403-9df7-b6721e5170ff button.colab-df-convert');\n",
              "      buttonEl.style.display =\n",
              "        google.colab.kernel.accessAllowed ? 'block' : 'none';\n",
              "\n",
              "      async function convertToInteractive(key) {\n",
              "        const element = document.querySelector('#df-ddd3cdc3-e70f-4403-9df7-b6721e5170ff');\n",
              "        const dataTable =\n",
              "          await google.colab.kernel.invokeFunction('convertToInteractive',\n",
              "                                                    [key], {});\n",
              "        if (!dataTable) return;\n",
              "\n",
              "        const docLinkHtml = 'Like what you see? Visit the ' +\n",
              "          '<a target=\"_blank\" href=https://colab.research.google.com/notebooks/data_table.ipynb>data table notebook</a>'\n",
              "          + ' to learn more about interactive tables.';\n",
              "        element.innerHTML = '';\n",
              "        dataTable['output_type'] = 'display_data';\n",
              "        await google.colab.output.renderOutput(dataTable, element);\n",
              "        const docLink = document.createElement('div');\n",
              "        docLink.innerHTML = docLinkHtml;\n",
              "        element.appendChild(docLink);\n",
              "      }\n",
              "    </script>\n",
              "  </div>\n",
              "\n",
              "\n",
              "    <div id=\"df-6cff8c32-e7fe-4084-a042-9281238e4859\">\n",
              "      <button class=\"colab-df-quickchart\" onclick=\"quickchart('df-6cff8c32-e7fe-4084-a042-9281238e4859')\"\n",
              "                title=\"Suggest charts\"\n",
              "                style=\"display:none;\">\n",
              "\n",
              "<svg xmlns=\"http://www.w3.org/2000/svg\" height=\"24px\"viewBox=\"0 0 24 24\"\n",
              "     width=\"24px\">\n",
              "    <g>\n",
              "        <path d=\"M19 3H5c-1.1 0-2 .9-2 2v14c0 1.1.9 2 2 2h14c1.1 0 2-.9 2-2V5c0-1.1-.9-2-2-2zM9 17H7v-7h2v7zm4 0h-2V7h2v10zm4 0h-2v-4h2v4z\"/>\n",
              "    </g>\n",
              "</svg>\n",
              "      </button>\n",
              "\n",
              "<style>\n",
              "  .colab-df-quickchart {\n",
              "      --bg-color: #E8F0FE;\n",
              "      --fill-color: #1967D2;\n",
              "      --hover-bg-color: #E2EBFA;\n",
              "      --hover-fill-color: #174EA6;\n",
              "      --disabled-fill-color: #AAA;\n",
              "      --disabled-bg-color: #DDD;\n",
              "  }\n",
              "\n",
              "  [theme=dark] .colab-df-quickchart {\n",
              "      --bg-color: #3B4455;\n",
              "      --fill-color: #D2E3FC;\n",
              "      --hover-bg-color: #434B5C;\n",
              "      --hover-fill-color: #FFFFFF;\n",
              "      --disabled-bg-color: #3B4455;\n",
              "      --disabled-fill-color: #666;\n",
              "  }\n",
              "\n",
              "  .colab-df-quickchart {\n",
              "    background-color: var(--bg-color);\n",
              "    border: none;\n",
              "    border-radius: 50%;\n",
              "    cursor: pointer;\n",
              "    display: none;\n",
              "    fill: var(--fill-color);\n",
              "    height: 32px;\n",
              "    padding: 0;\n",
              "    width: 32px;\n",
              "  }\n",
              "\n",
              "  .colab-df-quickchart:hover {\n",
              "    background-color: var(--hover-bg-color);\n",
              "    box-shadow: 0 1px 2px rgba(60, 64, 67, 0.3), 0 1px 3px 1px rgba(60, 64, 67, 0.15);\n",
              "    fill: var(--button-hover-fill-color);\n",
              "  }\n",
              "\n",
              "  .colab-df-quickchart-complete:disabled,\n",
              "  .colab-df-quickchart-complete:disabled:hover {\n",
              "    background-color: var(--disabled-bg-color);\n",
              "    fill: var(--disabled-fill-color);\n",
              "    box-shadow: none;\n",
              "  }\n",
              "\n",
              "  .colab-df-spinner {\n",
              "    border: 2px solid var(--fill-color);\n",
              "    border-color: transparent;\n",
              "    border-bottom-color: var(--fill-color);\n",
              "    animation:\n",
              "      spin 1s steps(1) infinite;\n",
              "  }\n",
              "\n",
              "  @keyframes spin {\n",
              "    0% {\n",
              "      border-color: transparent;\n",
              "      border-bottom-color: var(--fill-color);\n",
              "      border-left-color: var(--fill-color);\n",
              "    }\n",
              "    20% {\n",
              "      border-color: transparent;\n",
              "      border-left-color: var(--fill-color);\n",
              "      border-top-color: var(--fill-color);\n",
              "    }\n",
              "    30% {\n",
              "      border-color: transparent;\n",
              "      border-left-color: var(--fill-color);\n",
              "      border-top-color: var(--fill-color);\n",
              "      border-right-color: var(--fill-color);\n",
              "    }\n",
              "    40% {\n",
              "      border-color: transparent;\n",
              "      border-right-color: var(--fill-color);\n",
              "      border-top-color: var(--fill-color);\n",
              "    }\n",
              "    60% {\n",
              "      border-color: transparent;\n",
              "      border-right-color: var(--fill-color);\n",
              "    }\n",
              "    80% {\n",
              "      border-color: transparent;\n",
              "      border-right-color: var(--fill-color);\n",
              "      border-bottom-color: var(--fill-color);\n",
              "    }\n",
              "    90% {\n",
              "      border-color: transparent;\n",
              "      border-bottom-color: var(--fill-color);\n",
              "    }\n",
              "  }\n",
              "</style>\n",
              "\n",
              "      <script>\n",
              "        async function quickchart(key) {\n",
              "          const quickchartButtonEl =\n",
              "            document.querySelector('#' + key + ' button');\n",
              "          quickchartButtonEl.disabled = true;  // To prevent multiple clicks.\n",
              "          quickchartButtonEl.classList.add('colab-df-spinner');\n",
              "          try {\n",
              "            const charts = await google.colab.kernel.invokeFunction(\n",
              "                'suggestCharts', [key], {});\n",
              "          } catch (error) {\n",
              "            console.error('Error during call to suggestCharts:', error);\n",
              "          }\n",
              "          quickchartButtonEl.classList.remove('colab-df-spinner');\n",
              "          quickchartButtonEl.classList.add('colab-df-quickchart-complete');\n",
              "        }\n",
              "        (() => {\n",
              "          let quickchartButtonEl =\n",
              "            document.querySelector('#df-6cff8c32-e7fe-4084-a042-9281238e4859 button');\n",
              "          quickchartButtonEl.style.display =\n",
              "            google.colab.kernel.accessAllowed ? 'block' : 'none';\n",
              "        })();\n",
              "      </script>\n",
              "    </div>\n",
              "\n",
              "    </div>\n",
              "  </div>\n"
            ],
            "application/vnd.google.colaboratory.intrinsic+json": {
              "type": "dataframe",
              "summary": "{\n  \"name\": \"pd\",\n  \"rows\": 8,\n  \"fields\": [\n    {\n      \"column\": \"column\",\n      \"properties\": {\n        \"dtype\": \"string\",\n        \"num_unique_values\": 8,\n        \"samples\": [\n          \"District\",\n          \"Y Coordinate\",\n          \"Beat\"\n        ],\n        \"semantic_type\": \"\",\n        \"description\": \"\"\n      }\n    },\n    {\n      \"column\": \"count\",\n      \"properties\": {\n        \"dtype\": \"number\",\n        \"std\": 0,\n        \"min\": 117580,\n        \"max\": 117580,\n        \"num_unique_values\": 1,\n        \"samples\": [\n          117580\n        ],\n        \"semantic_type\": \"\",\n        \"description\": \"\"\n      }\n    },\n    {\n      \"column\": \"mean\",\n      \"properties\": {\n        \"dtype\": \"number\",\n        \"std\": 732076.32239811,\n        \"min\": -87.66828641208049,\n        \"max\": 1886352.9293077055,\n        \"num_unique_values\": 8,\n        \"samples\": [\n          11.262085388671542\n        ],\n        \"semantic_type\": \"\",\n        \"description\": \"\"\n      }\n    },\n    {\n      \"column\": \"stddev\",\n      \"properties\": {\n        \"dtype\": \"number\",\n        \"std\": 11660.100589125854,\n        \"min\": 0.05677900364564427,\n        \"max\": 31534.505101245024,\n        \"num_unique_values\": 8,\n        \"samples\": [\n          7.061776011263979\n        ],\n        \"semantic_type\": \"\",\n        \"description\": \"\"\n      }\n    },\n    {\n      \"column\": \"min\",\n      \"properties\": {\n        \"dtype\": \"number\",\n        \"std\": 704398.876405674,\n        \"min\": -87.822681861,\n        \"max\": 1813897.0,\n        \"num_unique_values\": 6,\n        \"samples\": [\n          111.0\n        ],\n        \"semantic_type\": \"\",\n        \"description\": \"\"\n      }\n    },\n    {\n      \"column\": \"max\",\n      \"properties\": {\n        \"dtype\": \"number\",\n        \"std\": 757161.9224891167,\n        \"min\": -87.524529378,\n        \"max\": 1951503.0,\n        \"num_unique_values\": 8,\n        \"samples\": [\n          31.0\n        ],\n        \"semantic_type\": \"\",\n        \"description\": \"\"\n      }\n    },\n    {\n      \"column\": \"median\",\n      \"properties\": {\n        \"dtype\": \"number\",\n        \"std\": 733922.8833483979,\n        \"min\": -87.663087144,\n        \"max\": 1891851.0,\n        \"num_unique_values\": 8,\n        \"samples\": [\n          10.0\n        ],\n        \"semantic_type\": \"\",\n        \"description\": \"\"\n      }\n    },\n    {\n      \"column\": \"skewness\",\n      \"properties\": {\n        \"dtype\": \"number\",\n        \"std\": 0.23295294639112085,\n        \"min\": -0.13444503898593682,\n        \"max\": 0.41477765446945186,\n        \"num_unique_values\": 8,\n        \"samples\": [\n          0.41477765446945186\n        ],\n        \"semantic_type\": \"\",\n        \"description\": \"\"\n      }\n    },\n    {\n      \"column\": \"kurtosis\",\n      \"properties\": {\n        \"dtype\": \"number\",\n        \"std\": 0.23864470784471803,\n        \"min\": -1.0480955225332689,\n        \"max\": -0.4561716660433639,\n        \"num_unique_values\": 8,\n        \"samples\": [\n          -0.9121443863811285\n        ],\n        \"semantic_type\": \"\",\n        \"description\": \"\"\n      }\n    }\n  ]\n}"
            }
          },
          "metadata": {},
          "execution_count": 13
        }
      ],
      "source": [
        "from pyspark.sql import functions as F\n",
        "\n",
        "results = []\n",
        "for column in numerical_cols:\n",
        "    stats = df_final.agg(\n",
        "        F.count(F.col(column)).alias('count'),\n",
        "        F.mean(F.col(column)).alias('mean'),\n",
        "        F.stddev(F.col(column)).alias('stddev'),\n",
        "        F.min(F.col(column)).alias('min'),\n",
        "        F.max(F.col(column)).alias('max'),\n",
        "        F.percentile_approx(F.col(column), 0.5).alias('median'),\n",
        "        F.skewness(F.col(column)).alias('skewness'),\n",
        "        F.kurtosis(F.col(column)).alias('kurtosis')\n",
        "    ).collect()[0]\n",
        "\n",
        "    results.append({\n",
        "        'column': column,\n",
        "        'count': stats['count'],\n",
        "        'mean': stats['mean'],\n",
        "        'stddev': stats['stddev'],\n",
        "        'min': stats['min'],\n",
        "        'max': stats['max'],\n",
        "        'median': stats['median'],\n",
        "        'skewness': stats['skewness'],\n",
        "        'kurtosis': stats['kurtosis']\n",
        "    })\n",
        "\n",
        "# Convert to Pandas DataFrame for better display\n",
        "import pandas as pd\n",
        "pd.DataFrame(results)"
      ]
    },
    {
      "cell_type": "markdown",
      "metadata": {
        "application/vnd.databricks.v1+cell": {
          "cellMetadata": {},
          "inputWidgets": {},
          "nuid": "583e00d1-c5d5-4c88-ad80-01d5c2858fe5",
          "showTitle": false,
          "tableResultSettingsMap": {},
          "title": ""
        },
        "id": "x_B95nC5wX26"
      },
      "source": [
        "**2. Categorical Feature Analysis**"
      ]
    },
    {
      "source": [
        "# Analyze categorical features (now indexed)\n",
        "\n",
        "# Define or retrieve the list of categorical columns\n",
        "categorical_cols = ['Primary Type', 'Location Description', 'Arrest', 'Domestic'] # Example columns\n",
        "\n",
        "# Create indexed columns using StringIndexer if they don't exist\n",
        "from pyspark.ml.feature import StringIndexer\n",
        "from pyspark.sql.types import IntegerType\n",
        "\n",
        "for col in categorical_cols:\n",
        "    # Check if the indexed column already exists\n",
        "    if col + \"_index\" not in df_final.columns:\n",
        "        # Cast boolean columns to integers before applying StringIndexer\n",
        "        if df_final.schema[col].dataType.typeName() == 'boolean':\n",
        "            df_final = df_final.withColumn(col, df_final[col].cast(IntegerType()))\n",
        "        indexer = StringIndexer(inputCol=col, outputCol=col + \"_index\")\n",
        "        df_final = indexer.fit(df_final).transform(df_final)\n",
        "\n",
        "# Now you can group by the indexed columns\n",
        "for col in [c + \"_index\" for c in categorical_cols]:\n",
        "    df_final.groupBy(col).count().orderBy('count', ascending=False).show(truncate=False)"
      ],
      "cell_type": "code",
      "metadata": {
        "colab": {
          "base_uri": "https://localhost:8080/"
        },
        "id": "corOheOTJuuI",
        "outputId": "2fd642b2-346b-4fbb-9d50-947b2b9bb518"
      },
      "execution_count": null,
      "outputs": [
        {
          "output_type": "stream",
          "name": "stdout",
          "text": [
            "+------------------+-----+\n",
            "|Primary Type_index|count|\n",
            "+------------------+-----+\n",
            "|0.0               |24260|\n",
            "|1.0               |17753|\n",
            "|2.0               |12746|\n",
            "|3.0               |11004|\n",
            "|4.0               |10069|\n",
            "|5.0               |8973 |\n",
            "|6.0               |6732 |\n",
            "|7.0               |6414 |\n",
            "|8.0               |5245 |\n",
            "|9.0               |3428 |\n",
            "|10.0              |2841 |\n",
            "|11.0              |2419 |\n",
            "|12.0              |1834 |\n",
            "|13.0              |914  |\n",
            "|14.0              |908  |\n",
            "|15.0              |659  |\n",
            "|16.0              |296  |\n",
            "|17.0              |241  |\n",
            "|18.0              |228  |\n",
            "|19.0              |227  |\n",
            "+------------------+-----+\n",
            "only showing top 20 rows\n",
            "\n",
            "+--------------------------+-----+\n",
            "|Location Description_index|count|\n",
            "+--------------------------+-----+\n",
            "|0.0                       |36457|\n",
            "|1.0                       |21108|\n",
            "|2.0                       |13074|\n",
            "|3.0                       |5441 |\n",
            "|4.0                       |3384 |\n",
            "|5.0                       |3283 |\n",
            "|6.0                       |3272 |\n",
            "|7.0                       |2400 |\n",
            "|8.0                       |1954 |\n",
            "|9.0                       |1652 |\n",
            "|10.0                      |1637 |\n",
            "|11.0                      |1492 |\n",
            "|12.0                      |1343 |\n",
            "|13.0                      |1312 |\n",
            "|14.0                      |1233 |\n",
            "|15.0                      |1076 |\n",
            "|16.0                      |1021 |\n",
            "|17.0                      |972  |\n",
            "|18.0                      |858  |\n",
            "|19.0                      |762  |\n",
            "+--------------------------+-----+\n",
            "only showing top 20 rows\n",
            "\n",
            "+------------+-----+\n",
            "|Arrest_index|count|\n",
            "+------------+-----+\n",
            "|0.0         |97648|\n",
            "|1.0         |19932|\n",
            "+------------+-----+\n",
            "\n",
            "+--------------+-----+\n",
            "|Domestic_index|count|\n",
            "+--------------+-----+\n",
            "|0.0           |98347|\n",
            "|1.0           |19233|\n",
            "+--------------+-----+\n",
            "\n"
          ]
        }
      ]
    },
    {
      "cell_type": "markdown",
      "metadata": {
        "application/vnd.databricks.v1+cell": {
          "cellMetadata": {},
          "inputWidgets": {},
          "nuid": "5191d493-170a-4767-abaf-6559cd0e14db",
          "showTitle": false,
          "tableResultSettingsMap": {},
          "title": ""
        },
        "id": "DGA_8AWIwX26"
      },
      "source": [
        "a) Basic Count Plots for Categorical Variables\n",
        "Bar Charts (Top Crime Types, Locations, etc.)"
      ]
    },
    {
      "source": [
        "# Top 10 Primary Crime Types\n",
        "display(\n",
        "    df_final.groupBy(\"Primary Type\") # Change \"primary_type\" to \"Primary Type\"\n",
        "    .count()\n",
        "    .orderBy(\"count\", ascending=False)\n",
        "    .limit(10)\n",
        ")"
      ],
      "cell_type": "code",
      "metadata": {
        "colab": {
          "base_uri": "https://localhost:8080/",
          "height": 35
        },
        "id": "eNQQDa9PJ8F4",
        "outputId": "6e6f6967-ada3-4971-b718-120af238a7bb"
      },
      "execution_count": null,
      "outputs": [
        {
          "output_type": "display_data",
          "data": {
            "text/plain": [
              "DataFrame[Primary Type: string, count: bigint]"
            ]
          },
          "metadata": {}
        }
      ]
    },
    {
      "cell_type": "markdown",
      "metadata": {
        "application/vnd.databricks.v1+cell": {
          "cellMetadata": {},
          "inputWidgets": {},
          "nuid": "33c297e6-c230-4be6-89b0-6b76a08d2866",
          "showTitle": false,
          "tableResultSettingsMap": {},
          "title": ""
        },
        "id": "rUOZCCw0wX26"
      },
      "source": [
        "b) Temporal Trends (Line/Bar Charts)\n",
        "Crimes by Hour of Day"
      ]
    },
    {
      "cell_type": "code",
      "execution_count": null,
      "metadata": {
        "application/vnd.databricks.v1+cell": {
          "cellMetadata": {
            "byteLimit": 2048000,
            "rowLimit": 10000
          },
          "inputWidgets": {},
          "nuid": "1261fad1-d9ec-411c-bd9b-ef6e4330fa1c",
          "showTitle": false,
          "tableResultSettingsMap": {},
          "title": ""
        },
        "id": "XWtpVVk-wX27",
        "outputId": "7c38f109-97e5-4c54-d7ad-f5b27ab63245",
        "colab": {
          "base_uri": "https://localhost:8080/",
          "height": 35
        }
      },
      "outputs": [
        {
          "output_type": "display_data",
          "data": {
            "text/plain": [
              "DataFrame[arrest: int, count: bigint]"
            ]
          },
          "metadata": {}
        }
      ],
      "source": [
        "display(df_final.groupBy(\"arrest\").count())"
      ]
    },
    {
      "cell_type": "markdown",
      "metadata": {
        "application/vnd.databricks.v1+cell": {
          "cellMetadata": {},
          "inputWidgets": {},
          "nuid": "bfb725ae-f300-478e-b525-0423765f7b42",
          "showTitle": false,
          "tableResultSettingsMap": {},
          "title": ""
        },
        "id": "z0fg1mm5wX27"
      },
      "source": [
        "c) Geospatial Heatmaps\n",
        "- Crime Density by Latitude/Longitude"
      ]
    },
    {
      "source": [
        "# Sample 10% of data for faster rendering\n",
        "display(\n",
        "    df_final.sample(0.1)\n",
        "    .select(\"latitude\", \"longitude\", \"Primary Type\") # Change \"primary_type\" to \"Primary Type\"\n",
        ")"
      ],
      "cell_type": "code",
      "metadata": {
        "colab": {
          "base_uri": "https://localhost:8080/",
          "height": 35
        },
        "id": "ugRa0_z_KtU5",
        "outputId": "5aa03af3-baa3-4901-fc94-2c2a80159325"
      },
      "execution_count": null,
      "outputs": [
        {
          "output_type": "display_data",
          "data": {
            "text/plain": [
              "DataFrame[latitude: double, longitude: double, Primary Type: string]"
            ]
          },
          "metadata": {}
        }
      ]
    },
    {
      "cell_type": "markdown",
      "metadata": {
        "application/vnd.databricks.v1+cell": {
          "cellMetadata": {},
          "inputWidgets": {},
          "nuid": "4b4308d9-4f78-4908-a13e-b7d615b2184a",
          "showTitle": false,
          "tableResultSettingsMap": {},
          "title": ""
        },
        "id": "o_TgWWkXwX27"
      },
      "source": [
        "d) Comparative Analysis\n",
        "- Arrest Rate by Crime Type (Stacked Bar)"
      ]
    },
    {
      "source": [
        "display(\n",
        "    df_final.groupBy(\"Primary Type\", \"arrest\")  # Change \"primary_type\" to \"Primary Type\"\n",
        "    .count()\n",
        "    .orderBy(\"Primary Type\")  # Change \"primary_type\" to \"Primary Type\"\n",
        ")"
      ],
      "cell_type": "code",
      "metadata": {
        "colab": {
          "base_uri": "https://localhost:8080/",
          "height": 35
        },
        "id": "eDvj5fIPK-RA",
        "outputId": "5d45ec0a-4876-445a-b090-13398ec59a23"
      },
      "execution_count": null,
      "outputs": [
        {
          "output_type": "display_data",
          "data": {
            "text/plain": [
              "DataFrame[Primary Type: string, arrest: int, count: bigint]"
            ]
          },
          "metadata": {}
        }
      ]
    },
    {
      "cell_type": "markdown",
      "metadata": {
        "application/vnd.databricks.v1+cell": {
          "cellMetadata": {},
          "inputWidgets": {},
          "nuid": "19207191-6c77-46b7-8a7f-3a44d3864a9d",
          "showTitle": false,
          "tableResultSettingsMap": {},
          "title": ""
        },
        "id": "pIrkJJB1wX27"
      },
      "source": [
        "e) Domestic Crimes by Location"
      ]
    },
    {
      "source": [
        "display(\n",
        "    df_final.filter(F.col(\"domestic\") == True)\n",
        "    .groupBy(\"Location Description\")  # Change \"location_description\" to \"Location Description\"\n",
        "    .count()\n",
        "    .orderBy(\"count\", ascending=False)\n",
        "    .limit(10)\n",
        ")"
      ],
      "cell_type": "code",
      "metadata": {
        "colab": {
          "base_uri": "https://localhost:8080/",
          "height": 35
        },
        "id": "ktXYzangLEGX",
        "outputId": "632e943e-0777-428a-a167-4c470bf2f750"
      },
      "execution_count": null,
      "outputs": [
        {
          "output_type": "display_data",
          "data": {
            "text/plain": [
              "DataFrame[Location Description: string, count: bigint]"
            ]
          },
          "metadata": {}
        }
      ]
    },
    {
      "cell_type": "markdown",
      "metadata": {
        "application/vnd.databricks.v1+cell": {
          "cellMetadata": {},
          "inputWidgets": {},
          "nuid": "4c2b12c8-415e-4df6-b8e9-81a672cbd74f",
          "showTitle": false,
          "tableResultSettingsMap": {},
          "title": ""
        },
        "id": "s1t7-suhwX27"
      },
      "source": [
        "f) Correlation Heatmap (For Numeric Features)"
      ]
    },
    {
      "source": [
        "numeric_cols = [\"X Coordinate\", \"Y Coordinate\", \"Ward\", \"Primary Type_index\"]  # Use actual column names from df_final\n",
        "corr_df = df_final.select(numeric_cols).toPandas().corr()\n",
        "\n",
        "display(corr_df.style.background_gradient(cmap=\"coolwarm\", vmin=-1, vmax=1))"
      ],
      "cell_type": "code",
      "metadata": {
        "colab": {
          "base_uri": "https://localhost:8080/",
          "height": 175
        },
        "id": "Sq56agnXLLPu",
        "outputId": "7128686e-b150-47a9-edba-7fe7e4f2fca9"
      },
      "execution_count": null,
      "outputs": [
        {
          "output_type": "display_data",
          "data": {
            "text/plain": [
              "<pandas.io.formats.style.Styler at 0x7a115c013fd0>"
            ],
            "text/html": [
              "<style type=\"text/css\">\n",
              "#T_4b596_row0_col0, #T_4b596_row1_col1, #T_4b596_row2_col2, #T_4b596_row3_col3 {\n",
              "  background-color: #b40426;\n",
              "  color: #f1f1f1;\n",
              "}\n",
              "#T_4b596_row0_col1, #T_4b596_row1_col0 {\n",
              "  background-color: #88abfd;\n",
              "  color: #000000;\n",
              "}\n",
              "#T_4b596_row0_col2, #T_4b596_row2_col0 {\n",
              "  background-color: #8fb1fe;\n",
              "  color: #000000;\n",
              "}\n",
              "#T_4b596_row0_col3, #T_4b596_row1_col3, #T_4b596_row3_col0, #T_4b596_row3_col1 {\n",
              "  background-color: #d8dce2;\n",
              "  color: #000000;\n",
              "}\n",
              "#T_4b596_row1_col2, #T_4b596_row2_col1 {\n",
              "  background-color: #e0654f;\n",
              "  color: #f1f1f1;\n",
              "}\n",
              "#T_4b596_row2_col3, #T_4b596_row3_col2 {\n",
              "  background-color: #d9dce1;\n",
              "  color: #000000;\n",
              "}\n",
              "</style>\n",
              "<table id=\"T_4b596\" class=\"dataframe\">\n",
              "  <thead>\n",
              "    <tr>\n",
              "      <th class=\"blank level0\" >&nbsp;</th>\n",
              "      <th id=\"T_4b596_level0_col0\" class=\"col_heading level0 col0\" >X Coordinate</th>\n",
              "      <th id=\"T_4b596_level0_col1\" class=\"col_heading level0 col1\" >Y Coordinate</th>\n",
              "      <th id=\"T_4b596_level0_col2\" class=\"col_heading level0 col2\" >Ward</th>\n",
              "      <th id=\"T_4b596_level0_col3\" class=\"col_heading level0 col3\" >Primary Type_index</th>\n",
              "    </tr>\n",
              "  </thead>\n",
              "  <tbody>\n",
              "    <tr>\n",
              "      <th id=\"T_4b596_level0_row0\" class=\"row_heading level0 row0\" >X Coordinate</th>\n",
              "      <td id=\"T_4b596_row0_col0\" class=\"data row0 col0\" >1.000000</td>\n",
              "      <td id=\"T_4b596_row0_col1\" class=\"data row0 col1\" >-0.527716</td>\n",
              "      <td id=\"T_4b596_row0_col2\" class=\"data row0 col2\" >-0.491654</td>\n",
              "      <td id=\"T_4b596_row0_col3\" class=\"data row0 col3\" >-0.032125</td>\n",
              "    </tr>\n",
              "    <tr>\n",
              "      <th id=\"T_4b596_level0_row1\" class=\"row_heading level0 row1\" >Y Coordinate</th>\n",
              "      <td id=\"T_4b596_row1_col0\" class=\"data row1 col0\" >-0.527716</td>\n",
              "      <td id=\"T_4b596_row1_col1\" class=\"data row1 col1\" >1.000000</td>\n",
              "      <td id=\"T_4b596_row1_col2\" class=\"data row1 col2\" >0.730956</td>\n",
              "      <td id=\"T_4b596_row1_col3\" class=\"data row1 col3\" >-0.033840</td>\n",
              "    </tr>\n",
              "    <tr>\n",
              "      <th id=\"T_4b596_level0_row2\" class=\"row_heading level0 row2\" >Ward</th>\n",
              "      <td id=\"T_4b596_row2_col0\" class=\"data row2 col0\" >-0.491654</td>\n",
              "      <td id=\"T_4b596_row2_col1\" class=\"data row2 col1\" >0.730956</td>\n",
              "      <td id=\"T_4b596_row2_col2\" class=\"data row2 col2\" >1.000000</td>\n",
              "      <td id=\"T_4b596_row2_col3\" class=\"data row2 col3\" >-0.028574</td>\n",
              "    </tr>\n",
              "    <tr>\n",
              "      <th id=\"T_4b596_level0_row3\" class=\"row_heading level0 row3\" >Primary Type_index</th>\n",
              "      <td id=\"T_4b596_row3_col0\" class=\"data row3 col0\" >-0.032125</td>\n",
              "      <td id=\"T_4b596_row3_col1\" class=\"data row3 col1\" >-0.033840</td>\n",
              "      <td id=\"T_4b596_row3_col2\" class=\"data row3 col2\" >-0.028574</td>\n",
              "      <td id=\"T_4b596_row3_col3\" class=\"data row3 col3\" >1.000000</td>\n",
              "    </tr>\n",
              "  </tbody>\n",
              "</table>\n"
            ]
          },
          "metadata": {}
        }
      ]
    },
    {
      "cell_type": "markdown",
      "metadata": {
        "application/vnd.databricks.v1+cell": {
          "cellMetadata": {},
          "inputWidgets": {},
          "nuid": "b8bb4497-1e6d-41c1-bd67-056857b1dc0d",
          "showTitle": false,
          "tableResultSettingsMap": {},
          "title": ""
        },
        "id": "8MiYWH6AwX27"
      },
      "source": [
        "**3. Code to Extract and Visualize Key Insights from Crime Dataset**"
      ]
    },
    {
      "source": [
        "from pyspark.sql import functions as F\n",
        "import matplotlib.pyplot as plt\n",
        "import seaborn as sns\n",
        "import pandas as pd\n",
        "\n",
        "# Cache the dataframe for faster processing\n",
        "df_final.cache()\n",
        "\n",
        "## Insight 1: Crime Type Distribution (Top 10)\n",
        "crime_type_dist = df_final.groupBy(\"Primary Type\") \\\n",
        "                         .count() \\\n",
        "                         .orderBy(F.desc(\"count\")) \\\n",
        "                         .limit(10) \\\n",
        "                         .toPandas()\n",
        "\n",
        "plt.figure(figsize=(10,6))\n",
        "sns.barplot(x='count', y='Primary Type', data=crime_type_dist, palette='viridis') # Corrected column name\n",
        "plt.title('Top 10 Most Frequent Crime Types')\n",
        "plt.xlabel('Number of Incidents')\n",
        "plt.ylabel('Crime Type')\n",
        "display()\n",
        "\n",
        "## Insight 2: Arrest Rates by Crime Type\n",
        "arrest_rates = df_final.groupBy(\"Primary Type\") \\\n",
        "                      .agg((F.sum(F.col(\"arrest\").cast(\"int\"))/F.count(\"*\")*100).alias(\"arrest_rate\")) \\\n",
        "                      .orderBy(F.desc(\"arrest_rate\")) \\\n",
        "                      .limit(10) \\\n",
        "                      .toPandas()\n",
        "\n",
        "plt.figure(figsize=(10,6))\n",
        "sns.barplot(x='arrest_rate', y='Primary Type', data=arrest_rates, palette='rocket') # Corrected column name\n",
        "plt.title('Top 10 Crime Types by Arrest Rate (%)')\n",
        "plt.xlabel('Arrest Rate (%)')\n",
        "plt.ylabel('Crime Type')\n",
        "display()\n",
        "\n",
        "\n",
        "## Insight 4: Geospatial Hotspots - Top Wards\n",
        "ward_dist = df_final.groupBy(\"ward\") \\\n",
        "                   .count() \\\n",
        "                   .orderBy(F.desc(\"count\")) \\\n",
        "                   .limit(10) \\\n",
        "                   .toPandas()\n",
        "\n",
        "plt.figure(figsize=(10,6))\n",
        "sns.barplot(x='count', y='ward', data=ward_dist, palette='mako')\n",
        "plt.title('Top 10 High-Crime Wards')\n",
        "plt.xlabel('Number of Crimes')\n",
        "plt.ylabel('Ward Number')\n",
        "display()\n",
        "\n"
      ],
      "cell_type": "code",
      "metadata": {
        "colab": {
          "base_uri": "https://localhost:8080/",
          "height": 1000
        },
        "id": "14h_7TIRN8Mp",
        "outputId": "48762200-d181-4eca-9806-579241733179"
      },
      "execution_count": null,
      "outputs": [
        {
          "output_type": "stream",
          "name": "stderr",
          "text": [
            "<ipython-input-51-5b052f6909a0>:17: FutureWarning: \n",
            "\n",
            "Passing `palette` without assigning `hue` is deprecated and will be removed in v0.14.0. Assign the `y` variable to `hue` and set `legend=False` for the same effect.\n",
            "\n",
            "  sns.barplot(x='count', y='Primary Type', data=crime_type_dist, palette='viridis') # Corrected column name\n",
            "<ipython-input-51-5b052f6909a0>:31: FutureWarning: \n",
            "\n",
            "Passing `palette` without assigning `hue` is deprecated and will be removed in v0.14.0. Assign the `y` variable to `hue` and set `legend=False` for the same effect.\n",
            "\n",
            "  sns.barplot(x='arrest_rate', y='Primary Type', data=arrest_rates, palette='rocket') # Corrected column name\n",
            "<ipython-input-51-5b052f6909a0>:46: FutureWarning: \n",
            "\n",
            "Passing `palette` without assigning `hue` is deprecated and will be removed in v0.14.0. Assign the `x` variable to `hue` and set `legend=False` for the same effect.\n",
            "\n",
            "  sns.barplot(x='count', y='ward', data=ward_dist, palette='mako')\n"
          ]
        },
        {
          "output_type": "display_data",
          "data": {
            "text/plain": [
              "<Figure size 1000x600 with 1 Axes>"
            ],
            "image/png": "[encoded data removed]"
          },
          "metadata": {}
        },
        {
          "output_type": "display_data",
          "data": {
            "text/plain": [
              "<Figure size 1000x600 with 1 Axes>"
            ],
            "image/png": "[encoded data removed]"
          },
          "metadata": {}
        },
        {
          "output_type": "display_data",
          "data": {
            "text/plain": [
              "<Figure size 1000x600 with 1 Axes>"
            ],
            "image/png": "[encoded data removed]"
          },
          "metadata": {}
        }
      ]
    },
    {
      "cell_type": "code",
      "source": [],
      "metadata": {
        "id": "EQ8bjx08OKI4"
      },
      "execution_count": null,
      "outputs": []
    },
    {
      "cell_type": "code",
      "source": [
        "import matplotlib.pyplot as plt\n",
        "import seaborn as sns\n",
        "from pyspark.sql.functions import col, when\n",
        "from pyspark.ml.classification import GBTClassifier\n",
        "from pyspark.ml.feature import StringIndexer, VectorAssembler\n",
        "from pyspark.ml import Pipeline\n",
        "from pyspark.ml.evaluation import MulticlassClassificationEvaluator\n",
        "from pyspark.ml.functions import vector_to_array\n",
        "from sklearn.metrics import classification_report, precision_recall_curve, confusion_matrix, f1_score\n",
        "import pandas as pd\n",
        "\n",
        "# STEP 1: Map Primary Type to risk_label\n",
        "violent_crimes = ['HOMICIDE', 'ROBBERY', 'ASSAULT', 'BATTERY', 'CRIMINAL SEXUAL ASSAULT']\n",
        "df_final = df_final.withColumn(\"risk_label\", when(col(\"Primary Type\").isin(violent_crimes), 1).otherwise(0))\n",
        "\n",
        "# STEP 2: Extract time features\n",
        "df_final = df_final.withColumn(\"hour\", col(\"date\").substr(12, 2).cast(\"int\"))\n",
        "df_final = df_final.withColumn(\"weekday\", col(\"date\").cast(\"date\").cast(\"timestamp\").cast(\"long\") % 7)\n",
        "df_final = df_final.withColumn(\"month\", col(\"date\").substr(6, 2).cast(\"int\"))\n",
        "\n",
        "# STEP 3: Features\n",
        "feature_cols = [\n",
        "    'X Coordinate', 'Y Coordinate', 'Latitude', 'Longitude',\n",
        "    'Ward', 'District', 'Community Area',\n",
        "    'Arrest_index', 'Domestic_index', 'Year', 'hour', 'weekday', 'month'\n",
        "]\n",
        "df_final = df_final.fillna(0, subset=feature_cols)\n",
        "\n",
        "# STEP 4: ML pipeline\n",
        "indexer = StringIndexer(inputCol=\"risk_label\", outputCol=\"label_gbt\")\n",
        "assembler = VectorAssembler(inputCols=feature_cols, outputCol=\"features\")\n",
        "gbt = GBTClassifier(labelCol=\"label\", featuresCol=\"features\", maxIter=100, maxDepth=5)\n",
        "pipeline = Pipeline(stages=[indexer, assembler, gbt])\n",
        "\n",
        "# STEP 5: Train/test split\n",
        "train_data, test_data = df_final.randomSplit([0.8, 0.2], seed=42)\n",
        "\n",
        "# STEP 6: Train model\n",
        "model = pipeline.fit(train_data)\n",
        "predictions = model.transform(test_data)\n",
        "\n",
        "# STEP 7: Accuracy\n",
        "evaluator = MulticlassClassificationEvaluator(labelCol=\"label_gbt\", predictionCol=\"prediction\", metricName=\"accuracy\")\n",
        "accuracy = evaluator.evaluate(predictions)\n",
        "print(f\"✅ GBT Accuracy: {accuracy:.4f}\")\n",
        "\n",
        "# STEP 8: Confusion matrix heatmap\n",
        "conf_df = predictions.groupBy(\"label\", \"prediction\").count().toPandas().pivot(index=\"label\", columns=\"prediction\", values=\"count\").fillna(0)\n",
        "plt.figure(figsize=(6, 4))\n",
        "sns.heatmap(conf_df, annot=True, fmt='g', cmap='Blues', xticklabels=[\"Non-Violent\", \"Violent\"], yticklabels=[\"Non-Violent\", \"Violent\"])\n",
        "plt.xlabel(\"Predicted\")\n",
        "plt.ylabel(\"Actual\")\n",
        "plt.title(\"Confusion Matrix - Violent Crime Classification\")\n",
        "plt.show()\n",
        "\n",
        "# STEP 9: Precision-Recall curve (best for minority class)\n",
        "pred_probs = predictions.withColumn(\"prob\", vector_to_array(\"rawPrediction\")[1])\n",
        "pr_df = pred_probs.select(\"label\", \"prob\").toPandas()\n",
        "prec, rec, _ = precision_recall_curve(pr_df[\"label\"], pr_df[\"prob\"])\n",
        "\n",
        "plt.figure(figsize=(6, 4))\n",
        "plt.plot(rec, prec, label=\"Precision-Recall\")\n",
        "plt.xlabel(\"Recall\")\n",
        "plt.ylabel(\"Precision\")\n",
        "plt.title(\"Precision-Recall Curve for Violent Crime (Class 1)\")\n",
        "plt.grid(True)\n",
        "plt.legend()\n",
        "plt.show()\n",
        "\n",
        "# STEP 10: Class-wise F1 Score\n",
        "y_true = pr_df[\"label\"]\n",
        "y_pred = predictions.select(\"prediction\").toPandas()[\"prediction\"]\n",
        "f1_class_0 = f1_score(y_true, y_pred, pos_label=0)\n",
        "f1_class_1 = f1_score(y_true, y_pred, pos_label=1)\n",
        "\n",
        "plt.figure(figsize=(5, 3))\n",
        "sns.barplot(x=[\"Non-Violent\", \"Violent\"], y=[f1_class_0, f1_class_1], palette=\"viridis\")\n",
        "plt.ylabel(\"F1 Score\")\n",
        "plt.title(\"Class-wise F1 Scores (Violent vs Non-Violent)\")\n",
        "plt.ylim(0, 1)\n",
        "plt.grid(True)\n",
        "plt.show()"
      ],
      "metadata": {
        "colab": {
          "base_uri": "https://localhost:8080/",
          "height": 1000
        },
        "id": "980lJnVJf8fu",
        "outputId": "619cc68b-8fcb-4da8-9571-640be29beb46"
      },
      "execution_count": 87,
      "outputs": [
        {
          "output_type": "stream",
          "name": "stdout",
          "text": [
            "✅ GBT Accuracy: 0.7618\n"
          ]
        },
        {
          "output_type": "display_data",
          "data": {
            "text/plain": [
              "<Figure size 600x400 with 2 Axes>"
            ],
            "image/png": "[encoded data removed]"
          },
          "metadata": {}
        },
        {
          "output_type": "display_data",
          "data": {
            "text/plain": [
              "<Figure size 600x400 with 1 Axes>"
            ],
            "image/png": "[encoded data removed]"
          },
          "metadata": {}
        },
        {
          "output_type": "stream",
          "name": "stderr",
          "text": [
            "<ipython-input-87-2e4cfa540a3d>:77: FutureWarning: \n",
            "\n",
            "Passing `palette` without assigning `hue` is deprecated and will be removed in v0.14.0. Assign the `x` variable to `hue` and set `legend=False` for the same effect.\n",
            "\n",
            "  sns.barplot(x=[\"Non-Violent\", \"Violent\"], y=[f1_class_0, f1_class_1], palette=\"viridis\")\n"
          ]
        },
        {
          "output_type": "display_data",
          "data": {
            "text/plain": [
              "<Figure size 500x300 with 1 Axes>"
            ],
            "image/png": "[encoded data removed]"
          },
          "metadata": {}
        }
      ]
    },
    {
      "cell_type": "code",
      "source": [
        "!pip install pyspark --quiet"
      ],
      "metadata": {
        "id": "dBHDv9peb76T"
      },
      "execution_count": 78,
      "outputs": []
    },
    {
      "cell_type": "code",
      "source": [
        "!pip install xgboost"
      ],
      "metadata": {
        "colab": {
          "base_uri": "https://localhost:8080/"
        },
        "id": "jKTwyb2xXXsJ",
        "outputId": "134c8c7f-6ce7-4892-fd72-5f908e2a9349"
      },
      "execution_count": 80,
      "outputs": [
        {
          "output_type": "stream",
          "name": "stdout",
          "text": [
            "Requirement already satisfied: xgboost in /usr/local/lib/python3.11/dist-packages (2.1.4)\n",
            "Requirement already satisfied: numpy in /usr/local/lib/python3.11/dist-packages (from xgboost) (2.0.2)\n",
            "Requirement already satisfied: nvidia-nccl-cu12 in /usr/local/lib/python3.11/dist-packages (from xgboost) (2.21.5)\n",
            "Requirement already satisfied: scipy in /usr/local/lib/python3.11/dist-packages (from xgboost) (1.15.2)\n"
          ]
        }
      ]
    },
    {
      "cell_type": "code",
      "source": [
        "# Install PySpark and XGBoost if not already installed (only in Colab or fresh kernel)\n",
        "!pip install pyspark xgboost --quiet\n",
        "\n",
        "from pyspark.sql import SparkSession\n",
        "from pyspark.sql.functions import when, col, monotonically_increasing_id, expr\n",
        "from pyspark.sql.types import DoubleType\n",
        "from pyspark.ml.feature import VectorAssembler, MinMaxScaler, StringIndexer\n",
        "from pyspark.ml.classification import LogisticRegression, RandomForestClassifier\n",
        "from pyspark.ml.evaluation import MulticlassClassificationEvaluator\n",
        "from xgboost.spark import SparkXGBClassifier\n",
        "\n",
        "# Initialize Spark\n",
        "spark = SparkSession.builder.appName(\"LR_RF_XGB_Ensemble\").getOrCreate()\n",
        "\n",
        "# Assuming df_final is your DataFrame and already has necessary columns\n",
        "# If not, load your data here\n",
        "\n",
        "# Define feature columns\n",
        "feature_cols = [\n",
        "    'X Coordinate', 'Y Coordinate', 'Latitude', 'Longitude',\n",
        "    'Ward', 'District', 'Community Area',\n",
        "    'Arrest_index', 'Domestic_index', 'Year', 'hour', 'weekday', 'month'\n",
        "]\n",
        "\n",
        "# Compute class weights\n",
        "total = df_final.count()\n",
        "pos = df_final.filter(\"risk_label = 1\").count()\n",
        "neg = total - pos\n",
        "w_pos = total / (2 * pos)\n",
        "w_neg = total / (2 * neg)\n",
        "\n",
        "# Apply class weights\n",
        "df_final = df_final.withColumn(\"class_weight\", when(col(\"risk_label\") == 1, w_pos).otherwise(w_neg))\n",
        "\n",
        "# String index label\n",
        "indexer = StringIndexer(inputCol=\"risk_label\", outputCol=\"label\")\n",
        "df_final = indexer.fit(df_final).transform(df_final)\n",
        "\n",
        "# Assemble + scale features\n",
        "assembler = VectorAssembler(inputCols=feature_cols, outputCol=\"unscaled_features\")\n",
        "df_assembled = assembler.transform(df_final)\n",
        "scaler = MinMaxScaler(inputCol=\"unscaled_features\", outputCol=\"features\")\n",
        "df_scaled = scaler.fit(df_assembled).transform(df_assembled)\n",
        "\n",
        "# Train/test split\n",
        "train_data, test_data = df_scaled.randomSplit([0.8, 0.2], seed=42)\n",
        "\n",
        "# Define models\n",
        "lr = LogisticRegression(labelCol=\"label\", featuresCol=\"features\", weightCol=\"class_weight\", maxIter=50)\n",
        "rf = RandomForestClassifier(labelCol=\"label\", featuresCol=\"features\", numTrees=100)\n",
        "xgb = SparkXGBClassifier(\n",
        "    features_col=\"features\",\n",
        "    label_col=\"label\",\n",
        "    weight_col=\"class_weight\",\n",
        "    num_workers=2  # Set this to your number of available CPU cores\n",
        ")\n",
        "\n",
        "# Train models\n",
        "model_lr = lr.fit(train_data)\n",
        "model_rf = rf.fit(train_data)\n",
        "model_xgb = xgb.fit(train_data)\n",
        "\n",
        "# Predictions\n",
        "pred_lr = model_lr.transform(test_data).select(\"label\", \"prediction\").withColumnRenamed(\"prediction\", \"pred_lr\")\n",
        "pred_rf = model_rf.transform(test_data).select(\"prediction\").withColumnRenamed(\"prediction\", \"pred_rf\")\n",
        "pred_xgb = model_xgb.transform(test_data).select(\"prediction\").withColumnRenamed(\"prediction\", \"pred_xgb\")\n",
        "\n",
        "# Assign unique ID to join\n",
        "pred_lr = pred_lr.withColumn(\"id\", monotonically_increasing_id())\n",
        "pred_rf = pred_rf.withColumn(\"id\", monotonically_increasing_id())\n",
        "pred_xgb = pred_xgb.withColumn(\"id\", monotonically_increasing_id())\n",
        "\n",
        "# Combine predictions\n",
        "ensemble_df = pred_lr.join(pred_rf, \"id\").join(pred_xgb, \"id\")\n",
        "\n",
        "# Majority voting: at least 2 out of 3 = 1 (violent), else 0\n",
        "ensemble_df = ensemble_df.withColumn(\"final_pred\", expr(\"double((pred_lr + pred_rf + pred_xgb) >= 2)\"))\n",
        "\n",
        "# Cast for evaluator\n",
        "ensemble_df = ensemble_df.withColumn(\"label\", col(\"label\").cast(DoubleType()))\n",
        "ensemble_df = ensemble_df.withColumn(\"final_pred\", col(\"final_pred\").cast(DoubleType()))\n",
        "\n",
        "# Evaluate\n",
        "evaluator = MulticlassClassificationEvaluator(labelCol=\"label\", predictionCol=\"final_pred\", metricName=\"accuracy\")\n",
        "accuracy = evaluator.evaluate(ensemble_df)\n",
        "print(f\"✅ Final Ensemble Accuracy: {accuracy:.4f}\")\n",
        "\n",
        "# Show confusion matrix\n",
        "ensemble_df.groupBy(\"label\", \"final_pred\").count().show()"
      ],
      "metadata": {
        "id": "rMQ7TkoJwivX",
        "colab": {
          "base_uri": "https://localhost:8080/"
        },
        "outputId": "a3d6909d-5d31-4f48-8e87-44a5722ed040"
      },
      "execution_count": 81,
      "outputs": [
        {
          "output_type": "stream",
          "name": "stderr",
          "text": [
            "INFO:XGBoost-PySpark:Running xgboost-2.1.4 on 2 workers with\n",
            "\tbooster params: {'objective': 'binary:logistic', 'device': 'cpu', 'nthread': 1}\n",
            "\ttrain_call_kwargs_params: {'verbose_eval': True, 'num_boost_round': 100}\n",
            "\tdmatrix_kwargs: {'nthread': 1, 'missing': nan}\n",
            "INFO:XGBoost-PySpark:Finished xgboost training!\n"
          ]
        },
        {
          "output_type": "stream",
          "name": "stdout",
          "text": [
            "✅ Final Ensemble Accuracy: 0.7579\n",
            "+-----+----------+-----+\n",
            "|label|final_pred|count|\n",
            "+-----+----------+-----+\n",
            "|  1.0|       1.0| 5052|\n",
            "|  0.0|       1.0| 1661|\n",
            "|  1.0|       0.0| 4056|\n",
            "|  0.0|       0.0|12848|\n",
            "+-----+----------+-----+\n",
            "\n"
          ]
        }
      ]
    },
    {
      "cell_type": "code",
      "source": [],
      "metadata": {
        "id": "aHuP6AokeCci"
      },
      "execution_count": null,
      "outputs": []
    },
    {
      "cell_type": "code",
      "source": [],
      "metadata": {
        "id": "OwLPnV_CeCe_"
      },
      "execution_count": null,
      "outputs": []
    },
    {
      "cell_type": "code",
      "source": [],
      "metadata": {
        "id": "BVveeU0XeChM"
      },
      "execution_count": null,
      "outputs": []
    }
  ],
  "metadata": {
    "application/vnd.databricks.v1+notebook": {
      "computePreferences": null,
      "dashboards": [],
      "environmentMetadata": null,
      "inputWidgetPreferences": null,
      "language": "python",
      "notebookMetadata": {
        "mostRecentlyExecutedCommandWithImplicitDF": {
          "commandId": 1352240412650413,
          "dataframes": [
            "_sqldf"
          ]
        },
        "pythonIndentUnit": 4
      },
      "notebookName": "2025-04-23 - DBFS Example (1)",
      "widgets": {}
    },
    "colab": {
      "provenance": []
    },
    "language_info": {
      "name": "python"
    },
    "kernelspec": {
      "name": "python3",
      "display_name": "Python 3"
    }
  },
  "nbformat": 4,
  "nbformat_minor": 0
}